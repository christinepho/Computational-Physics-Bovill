{
 "cells": [
  {
   "cell_type": "code",
   "execution_count": 37,
   "metadata": {},
   "outputs": [],
   "source": [
    "import numpy as np\n",
    "from matplotlib import pyplot as plt\n",
    "import math\n",
    "from scipy import integrate"
   ]
  },
  {
   "cell_type": "code",
   "execution_count": 55,
   "metadata": {},
   "outputs": [],
   "source": [
    "h=6.62607004e-34 #Planck's constant\n",
    "kb=1.38064852e-23 #Boltzmann's constant\n",
    "c=3.0e8           #speed of light\n",
    "\n",
    "N=1000000           #number of integration steps\n",
    "\n"
   ]
  },
  {
   "cell_type": "code",
   "execution_count": 56,
   "metadata": {},
   "outputs": [],
   "source": [
    "#Defining function within the integral\n",
    "def f(x):\n",
    "    return x**3/(math.e**x-1)\n",
    "\n",
    "## Defining Function that gives the efficiency as a function of T\n",
    "def efficiency(T):\n",
    "    a=h*c/(750e-9*kb*T)  #lower bound of integral\n",
    "    b=h*c/(450e-9*kb*T)  #upper bound of integral\n",
    "    \n",
    "    def Simpson():\n",
    "        h=(b-a)/N\n",
    "        s=f(a)+f(b)\n",
    "        for k in range(1,int(N)):\n",
    "            if (k%2!=0):\n",
    "                s+=4*f(a+k*h)\n",
    "            else:\n",
    "                s+=2*f(a+k*h)\n",
    "        return 1/3*h*s\n",
    "    \n",
    "    return 15/math.pi**4*Simpson()\n",
    "    "
   ]
  },
  {
   "cell_type": "code",
   "execution_count": 61,
   "metadata": {},
   "outputs": [],
   "source": [
    "Ts=np.linspace(300,10000,20)   #Range of temperatures\n",
    "effs=np.zeros(len(Ts))         #Initializing array for efficiency as a function of temperature\n",
    "\n",
    "\n",
    "#Calculating Efficiency as a function of Temperature\n",
    "for i in range(len(Ts)):\n",
    "    T=Ts[i]\n",
    "    effs[i]=efficiency(T)\n",
    "    "
   ]
  },
  {
   "cell_type": "code",
   "execution_count": 65,
   "metadata": {},
   "outputs": [
    {
     "data": {
      "image/png": "[encoded data removed]",
      "text/plain": [
       "<Figure size 432x288 with 1 Axes>"
      ]
     },
     "metadata": {
      "needs_background": "light"
     },
     "output_type": "display_data"
    }
   ],
   "source": [
    "plt.plot(Ts,effs)\n",
    "plt.xlabel(\"Temperature (Kelvin)\")\n",
    "plt.ylabel(\"Efficiency\")\n",
    "plt.title(\"Light Bulb Efficiency as a Function of Temperature\")\n",
    "plt.savefig(\"dead\")"
   ]
  },
  {
   "cell_type": "code",
   "execution_count": 69,
   "metadata": {},
   "outputs": [
    {
     "name": "stdout",
     "output_type": "stream",
     "text": [
      "The temperature at maximum efficiency is: 6426.315789473684 Kelvin\n"
     ]
    }
   ],
   "source": [
    "#Finding and Outputting the maximum efficiency Temperature\n",
    "\n",
    "for xx, yy in zip(Ts, effs):\n",
    "    if yy==max(effs):\n",
    "        print(\"The temperature at maximum efficiency is: \"+str(xx)+\" Kelvin\")"
   ]
  },
  {
   "cell_type": "code",
   "execution_count": null,
   "metadata": {},
   "outputs": [],
   "source": []
  }
 ],
 "metadata": {
  "kernelspec": {
   "display_name": "Python 3",
   "language": "python",
   "name": "python3"
  },
  "language_info": {
   "codemirror_mode": {
    "name": "ipython",
    "version": 3
   },
   "file_extension": ".py",
   "mimetype": "text/x-python",
   "name": "python",
   "nbconvert_exporter": "python",
   "pygments_lexer": "ipython3",
   "version": "3.7.0"
  }
 },
 "nbformat": 4,
 "nbformat_minor": 2
}
