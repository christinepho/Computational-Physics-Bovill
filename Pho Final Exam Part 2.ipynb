{
 "cells": [
  {
   "cell_type": "code",
   "execution_count": 1,
   "metadata": {},
   "outputs": [],
   "source": [
    "import numpy as np\n",
    "from matplotlib import pyplot as plt\n",
    "import math\n",
    "from scipy.integrate import odeint"
   ]
  },
  {
   "cell_type": "code",
   "execution_count": 2,
   "metadata": {},
   "outputs": [],
   "source": [
    "p = 2.2 #air density in kg/m^3\n",
    "radius=0.06\n",
    "angle0=38*math.pi/180.0\n",
    "C= 0.47\n",
    "\n",
    "drag_constant= 0.5*math.pi*radius**2*p*C\n",
    "g=9.81\n",
    "\n",
    "y0=8.0\n",
    "x0=0.0\n",
    "Vx0=110*np.cos(angle0)\n",
    "Vy0=110*np.sin(angle0)"
   ]
  },
  {
   "cell_type": "code",
   "execution_count": 3,
   "metadata": {},
   "outputs": [],
   "source": [
    "def dxdt(Vx):\n",
    "    return Vx\n",
    "\n",
    "def dydt(Vy):\n",
    "    return Vy\n",
    "\n",
    "def dVxdt(Vx,Vy):\n",
    "    return -drag_constant*Vx*np.sqrt(Vx**2+Vy**2)\n",
    "\n",
    "def dVydt(Vx,Vy):\n",
    "    return -g-drag_constant*Vy*np.sqrt(Vx**2+Vy**2)\n",
    "    "
   ]
  },
  {
   "cell_type": "code",
   "execution_count": 4,
   "metadata": {},
   "outputs": [],
   "source": [
    "N=1000 #number of steps in integration\n",
    "t1=0.0  #initial time\n",
    "t2=8.3 #final time\n",
    "t=np.linspace(t1,t2,N)\n",
    "h=(t2-t1)/N  #time step"
   ]
  },
  {
   "cell_type": "code",
   "execution_count": 5,
   "metadata": {},
   "outputs": [],
   "source": [
    "#RK4 Method\n",
    "\n",
    "x=np.zeros(N)\n",
    "y=np.zeros(N)\n",
    "Vx=np.zeros(N)\n",
    "Vy=np.zeros(N)\n",
    "\n",
    "x[0]=x0\n",
    "y[0]=y0\n",
    "Vx[0]=Vx0\n",
    "Vy[0]=Vy0\n",
    "\n",
    "\n",
    "for i in range (1,N):\n",
    "    xi=x[i-1]\n",
    "    yi=y[i-1]\n",
    "    Vxi=Vx[i-1]\n",
    "    Vyi=Vy[i-1]\n",
    "    \n",
    "    \n",
    "    k1x=h*dxdt(Vxi)\n",
    "    k1y=h*dydt(Vyi)\n",
    "    k1Vx=h*dVxdt(Vxi,Vyi)\n",
    "    k1Vy=h*dVydt(Vxi,Vyi)\n",
    "    \n",
    "    k2x=h*dxdt(Vxi+k1Vx/2)\n",
    "    k2y=h*dydt(Vyi+k1Vy/2)\n",
    "    k2Vx=h*dVxdt(Vxi+k1Vx/2,Vyi+k1Vy/2)\n",
    "    k2Vy=h*dVydt(Vxi+k1Vx/2,Vyi+k1Vy/2)\n",
    "    \n",
    "    k3x=h*dxdt(Vxi+k2Vx/2)\n",
    "    k3y=h*dydt(Vyi+k2Vy/2)\n",
    "    k3Vx=h*dVxdt(Vxi+k2Vx/2,Vyi+k2Vy/2)\n",
    "    k3Vy=h*dVydt(Vxi+k2Vx/2,Vyi+k2Vy/2)\n",
    "    \n",
    "    k4x=h*dxdt(Vxi+k3Vx)\n",
    "    k4y=h*dydt(Vyi+k3Vy)\n",
    "    k4Vx=h*dVxdt(Vxi+k3Vx,Vyi+k3Vy)\n",
    "    k4Vy=h*dVydt(Vxi+k3Vx,Vyi+k3Vy)\n",
    "    \n",
    "    x[i]=xi+1.0/6.0*(k1x + 2*k2x  + 2*k3x + k4x)   \n",
    "    y[i]=yi+1.0/6.0*(k1y + 2*k2y  + 2*k3y + k4y)\n",
    "    Vx[i]=Vxi+1.0/6.0*(k1Vx + 2*k2Vx  + 2*k3Vx + k4Vx)   \n",
    "    Vy[i]=Vyi+1.0/6.0*(k1Vy + 2*k2Vy  + 2*k3Vy + k4Vy)\n",
    "    \n",
    "    "
   ]
  },
  {
   "cell_type": "code",
   "execution_count": 6,
   "metadata": {},
   "outputs": [
    {
     "name": "stdout",
     "output_type": "stream",
     "text": [
      "The distance traveled by the projectile is: 260.0712287860802\n"
     ]
    },
    {
     "data": {
      "image/png": "[encoded data removed]",
      "text/plain": [
       "<Figure size 432x288 with 1 Axes>"
      ]
     },
     "metadata": {
      "needs_background": "light"
     },
     "output_type": "display_data"
    }
   ],
   "source": [
    "#plotting the trajectory\n",
    "plt.plot(x,y)\n",
    "plt.title(\"Projectile Path\")\n",
    "plt.text(5,85,\"Air density = \"+str(p)+\" kg/m^3\")\n",
    "plt.savefig(\"dead\")\n",
    "\n",
    "#finding the distance traveled\n",
    "for xx, yy in zip(x, y):\n",
    "    if yy<=2 and yy>=-2:\n",
    "        print(\"The distance traveled by the projectile is: \"+str(xx))\n",
    "        \n"
   ]
  },
  {
   "cell_type": "code",
   "execution_count": null,
   "metadata": {},
   "outputs": [],
   "source": []
  },
  {
   "cell_type": "code",
   "execution_count": null,
   "metadata": {},
   "outputs": [],
   "source": []
  },
  {
   "cell_type": "code",
   "execution_count": null,
   "metadata": {},
   "outputs": [],
   "source": []
  },
  {
   "cell_type": "code",
   "execution_count": null,
   "metadata": {},
   "outputs": [],
   "source": []
  },
  {
   "cell_type": "code",
   "execution_count": null,
   "metadata": {},
   "outputs": [],
   "source": [
    "\n"
   ]
  },
  {
   "cell_type": "code",
   "execution_count": null,
   "metadata": {},
   "outputs": [],
   "source": []
  }
 ],
 "metadata": {
  "kernelspec": {
   "display_name": "Python 3",
   "language": "python",
   "name": "python3"
  },
  "language_info": {
   "codemirror_mode": {
    "name": "ipython",
    "version": 3
   },
   "file_extension": ".py",
   "mimetype": "text/x-python",
   "name": "python",
   "nbconvert_exporter": "python",
   "pygments_lexer": "ipython3",
   "version": "3.7.0"
  }
 },
 "nbformat": 4,
 "nbformat_minor": 2
}
